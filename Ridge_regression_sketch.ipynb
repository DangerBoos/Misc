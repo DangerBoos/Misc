{
 "cells": [
  {
   "cell_type": "code",
   "execution_count": null,
   "id": "25a2185d",
   "metadata": {},
   "outputs": [],
   "source": [
    "#place this notebook is in the main directory"
   ]
  },
  {
   "cell_type": "code",
   "execution_count": null,
   "id": "1eddbadc",
   "metadata": {},
   "outputs": [],
   "source": [
    "from sklearn.linear_model import Ridge, Lasso\n",
    "import pandas as pd\n",
    "from sklearn.model_selection import train_test_split\n",
    "from sklearn.metrics import mean_squared_error\n",
    "import numpy as np"
   ]
  },
  {
   "cell_type": "code",
   "execution_count": null,
   "id": "62f8e8af",
   "metadata": {},
   "outputs": [],
   "source": [
    "dta = pd.read_csv('./data/WA_Fn-UseC_-Marketing-Customer-Value-Analysis.csv')"
   ]
  },
  {
   "cell_type": "code",
   "execution_count": null,
   "id": "a6bfb2f2",
   "metadata": {},
   "outputs": [],
   "source": [
    "dtypes_frame = pd.DataFrame(dta.dtypes)\n",
    "ints = dtypes_frame[0].apply(lambda x: x in ['float64', 'int64'])\n",
    "numeric_vars = list(dtypes_frame.index[ints])"
   ]
  },
  {
   "cell_type": "code",
   "execution_count": null,
   "id": "c19e825c",
   "metadata": {},
   "outputs": [],
   "source": [
    "target = 'Months Since Policy Inception'\n",
    "predictors = [x for x in numeric_vars if x != target]"
   ]
  },
  {
   "cell_type": "code",
   "execution_count": null,
   "id": "919c5ca4",
   "metadata": {},
   "outputs": [],
   "source": [
    "X=dta[predictors]\n",
    "y=dta[target]\n",
    "X_train, X_test, y_train, y_test = train_test_split(X, y, test_size=0.33, random_state=42)"
   ]
  },
  {
   "cell_type": "code",
   "execution_count": null,
   "id": "f713489c",
   "metadata": {},
   "outputs": [],
   "source": [
    "alphas = np.linspace(0,1,11)\n",
    "mse = []\n",
    "for alpha in alphas:\n",
    "    clf = Ridge(alpha=alpha)\n",
    "    clf.fit(X_train, y_train)\n",
    "    preds = clf.predict(X_test)\n",
    "    truth = y_test\n",
    "    mse_new = mean_squared_error(truth, preds, squared=True)\n",
    "    mse.append(mse_new)"
   ]
  },
  {
   "cell_type": "code",
   "execution_count": null,
   "id": "0243d728",
   "metadata": {},
   "outputs": [],
   "source": [
    "minimum_index = np.argmin(mse)\n",
    "best_alpha = alphas[minimum_index]\n",
    "print(best_alpha)"
   ]
  },
  {
   "cell_type": "code",
   "execution_count": null,
   "id": "f8eedb1b",
   "metadata": {},
   "outputs": [],
   "source": [
    "#same thing but for Lasso\n",
    "alphas = np.linspace(0.1,1,10)\n",
    "mse = []\n",
    "for alpha in alphas:\n",
    "    clf = Lasso(alpha=alpha)\n",
    "    clf.fit(X_train, y_train)\n",
    "    preds = clf.predict(X_test)\n",
    "    truth = y_test\n",
    "    mse_new = mean_squared_error(truth, preds, squared=True)\n",
    "    mse.append(mse_new)"
   ]
  },
  {
   "cell_type": "code",
   "execution_count": null,
   "id": "f30a89f2",
   "metadata": {},
   "outputs": [],
   "source": [
    "minimum_index = np.argmin(mse)\n",
    "best_alpha = alphas[minimum_index]\n",
    "print(best_alpha)"
   ]
  }
 ],
 "metadata": {
  "kernelspec": {
   "display_name": "Python 3 (ipykernel)",
   "language": "python",
   "name": "python3"
  },
  "language_info": {
   "codemirror_mode": {
    "name": "ipython",
    "version": 3
   },
   "file_extension": ".py",
   "mimetype": "text/x-python",
   "name": "python",
   "nbconvert_exporter": "python",
   "pygments_lexer": "ipython3",
   "version": "3.9.7"
  }
 },
 "nbformat": 4,
 "nbformat_minor": 5
}
